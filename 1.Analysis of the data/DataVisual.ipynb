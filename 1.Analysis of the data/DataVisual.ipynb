{
 "cells": [
  {
   "cell_type": "code",
   "execution_count": null,
   "metadata": {
    "collapsed": true
   },
   "outputs": [],
   "source": [
    "library(sqldf)\n",
    "library(plotly)\n",
    "library(leaflet)\n",
    "library(leaflet.extras)\n",
    "library(ggplot2)\n",
    "library(wordcloud2)\n",
    "library(tm)\n",
    "df <- read.csv('.v')"
   ]
  },
  {
   "cell_type": "code",
   "execution_count": null,
   "metadata": {},
   "outputs": [],
   "source": [
    "location <- df[!duplicated(df[,c('lat','lng','Hotel_Address')]),c('lat','lng','Hotel_Address','Average_Score')]\n",
    "leaflet(data = location)%>%addProviderTiles(providers$Stamen.TonerLite)%>%addMarkers(popup = ~Hotel_Address,clusterOptions = markerClusterOptions())"
   ]
  },
  {
   "cell_type": "code",
   "execution_count": null,
   "metadata": {},
   "outputs": [],
   "source": [
    "leaflet(data = location)%>%addProviderTiles(providers$Esri.NatGeoWorldMap)%>%addMarkers(popup = ~Hotel_Address)"
   ]
  },
  {
   "cell_type": "code",
   "execution_count": null,
   "metadata": {},
   "outputs": [],
   "source": [
    "g <- ggplot(df[sample(nrow(df), 10000), ],aes(x=Reviewer_Score)) + geom_histogram(binwidth = 1)+theme_bw()+ggtitle('Distribution of reviewer socres')\n",
    "ggplotly(g)\n",
    "\n",
    "avgscore_nation <- sqldf('SELECT Reviewer_Nationality, avg(Reviewer_Score) as avg_score from df group by Reviewer_Nationality order by avg(Reviewer_Score) desc')\n",
    "avgscore_nation[166,1]<-'UnKnown'\n",
    "g <- ggplot(avgscore_nation[1:20,],aes(x=Reviewer_Nationality,y=avg_score)) + geom_bar(stat = 'identity')+theme_bw()+ theme(axis.text.x = element_text(angle = 45, hjust = 1)) + ggtitle('20 Nationalities with highest average score')\n",
    "ggplotly(g)\n",
    "\n",
    "g <- ggplot(avgscore_nation[207:227,],aes(x=Reviewer_Nationality,y=avg_score)) + geom_bar(stat = 'identity')+theme_bw()+ theme(axis.text.x = element_text(angle = 45, hjust = 1)) + ggtitle('20 Nationalities with lowest average score')\n",
    "ggplotly(g)\n",
    "\n",
    "g <- ggplot(df[sample(nrow(df), 10000), ],aes(x=Total_Number_of_Reviews_Reviewer_Has_Given,y=Reviewer_Score)) + geom_point()+theme_bw()+geom_smooth(method = \"lm\")+ggtitle('Correlation between score and review frequency')\n",
    "ggplotly(g)"
   ]
  },
  {
   "cell_type": "code",
   "execution_count": null,
   "metadata": {},
   "outputs": [],
   "source": [
    "reviews <- df[sample(nrow(df), 40000), ]\n",
    "reviews <- reviews[reviews$Positive_Review!='No Positive',]\n",
    "reviews <- reviews[reviews$Negative_Review!='No Negative',]\n",
    "term_freq <- function(df,sent){\n",
    "  if(sent=='pos'){\n",
    "       corpus <- Corpus(VectorSource(df$Positive_Review))\n",
    "  }else{\n",
    "       corpus <- Corpus(VectorSource(df$Negative_Review))\n",
    "  }\n",
    "  corpus <- tm_map(corpus, removeWords, stopwords(\"SMART\"))\n",
    "  corpus <- tm_map(corpus, removeWords, stopwords(\"en\"))\n",
    "  corpus <- tm_map(corpus, stripWhitespace)\n",
    "  dtm <-TermDocumentMatrix(corpus)\n",
    "  mat_dtm <- as.matrix(dtm)\n",
    "  v_dtm <- sort(rowSums(mat_dtm),decreasing = TRUE)\n",
    "  FreqMat <- data.frame(word = names(v_dtm), Freq = v_dtm)\n",
    "  FreqMat <- FreqMat[1:50,]\n",
    "  return(FreqMat)\n",
    "}\n",
    "wordcloud2(data = term_freq(reviews,'pos'),minRotation = 0,maxRotation = 0) "
   ]
  },
  {
   "cell_type": "code",
   "execution_count": null,
   "metadata": {},
   "outputs": [],
   "source": [
    "wordcloud2(data = term_freq(reviews,'neg'),minRotation = 0,maxRotation = 0)"
   ]
  }
 ],
 "metadata": {
  "kernelspec": {
   "display_name": "Python 2",
   "language": "python",
   "name": "python2"
  },
  "language_info": {
   "codemirror_mode": {
    "name": "ipython",
    "version": 2
   },
   "file_extension": ".py",
   "mimetype": "text/x-python",
   "name": "python",
   "nbconvert_exporter": "python",
   "pygments_lexer": "ipython2",
   "version": "2.7.6"
  }
 },
 "nbformat": 4,
 "nbformat_minor": 0
}
